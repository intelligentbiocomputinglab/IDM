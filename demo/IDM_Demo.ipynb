{
 "cells": [
  {
   "cell_type": "markdown",
   "metadata": {},
   "source": [
    "# This is a Demo of IDioM applied to Alanine dipeptide (Ala2).\n",
    "This can also be used to reproduce the relevant results in the paper \"Learning Clustered Representatio n for Complex Free Energy Landscapes\" by Zhang et al.\n",
    "\n",
    "First import basic libraries:"
   ]
  },
  {
   "cell_type": "code",
   "execution_count": 1,
   "metadata": {},
   "outputs": [],
   "source": [
    "from __future__ import division, print_function, absolute_import\n",
    "from __future__ import unicode_literals\n",
    "import os\n",
    "\n",
    "import math\n",
    "import numpy as np\n",
    "\n",
    "%matplotlib inline\n",
    "import matplotlib\n",
    "### matplotlib.use('Agg')\n",
    "import matplotlib.pyplot as plt"
   ]
  },
  {
   "cell_type": "markdown",
   "metadata": {},
   "source": [
    "Import tensorflow; version: "
   ]
  },
  {
   "cell_type": "code",
   "execution_count": 2,
   "metadata": {},
   "outputs": [],
   "source": [
    "import tensorflow as tf\n",
    "\n",
    "import tflib as lib\n",
    "import tflib.ops.linear"
   ]
  },
  {
   "cell_type": "markdown",
   "metadata": {},
   "source": [
    "Define basic building blocks:"
   ]
  },
  {
   "cell_type": "code",
   "execution_count": 3,
   "metadata": {},
   "outputs": [],
   "source": [
    "def LeakyReLU(x, alpha=0.2):\n",
    "    return tf.maximum(alpha*x, x)\n",
    "\n",
    "def LeakyReLULayer(name, n_in, n_out, inputs):\n",
    "    output = lib.ops.linear.Linear(\n",
    "        name+'.Linear', \n",
    "        n_in, \n",
    "        n_out, \n",
    "        inputs,\n",
    "        initialization='he'\n",
    "    )\n",
    "    return LeakyReLU(output)\n",
    "\n",
    "def LinearLayer(name, n_in, n_out, inputs):\n",
    "    output = lib.ops.linear.Linear(\n",
    "        name+'.Linear',\n",
    "        n_in,\n",
    "        n_out,\n",
    "        inputs,\n",
    "        initialization='he'\n",
    "    )\n",
    "    \n",
    "    return output"
   ]
  },
  {
   "cell_type": "markdown",
   "metadata": {},
   "source": [
    "Import MD trajectories:"
   ]
  },
  {
   "cell_type": "code",
   "execution_count": 4,
   "metadata": {},
   "outputs": [
    {
     "name": "stdout",
     "output_type": "stream",
     "text": [
      "(750000, 2)\n"
     ]
    }
   ],
   "source": [
    "import mdshare\n",
    "\n",
    "### Note: Please replace the working_directory with the current one ! ###\n",
    "wd = '/idiom/demo/' ### This defines the working directory\n",
    "\n",
    "local_filename = mdshare.fetch('alanine-dipeptide-3x250ns-backbone-dihedrals.npz',working_directory=wd)\n",
    "with np.load(local_filename) as fh:\n",
    "    trajs = [fh[key] for key in fh.keys()]\n",
    "    \n",
    "local_filename1 = mdshare.fetch('alanine-dipeptide-3x250ns-heavy-atom-positions.npz',working_directory=wd)\n",
    "with np.load(local_filename1) as fh:\n",
    "    trajs1 = [fh[key] for key in fh.keys()]\n",
    "    \n",
    "traj_concat = np.concatenate((trajs[0],trajs[1],trajs[2]),axis=0)[::1,:]\n",
    "print(traj_concat.shape) ### check the size of trajectories\n",
    "data_size,_ = traj_concat.shape\n",
    "\n",
    "data_phi = traj_concat[:,0]\n",
    "data_psi = traj_concat[:,1]\n",
    "torsion = np.column_stack((data_phi,data_psi))\n",
    "\n",
    "########## xyz coordinates:\n",
    "traj_concat1 = np.concatenate((trajs1[0],trajs1[1],trajs1[2]),axis=0)[::1,:]\n",
    "atom_position_list = np.split(traj_concat1,10,axis=1)\n",
    "\n",
    "dist_list = []\n",
    "for i in range(10):\n",
    "    for j in range(i+1,10):\n",
    "        dist_tmp = np.sum(\n",
    "            np.square(atom_position_list[i]-atom_position_list[j]),\n",
    "        axis=-1)\n",
    "        dist_list.append(dist_tmp)\n",
    "        \n",
    "\n",
    "dist_array_raw = np.column_stack(dist_list)"
   ]
  },
  {
   "cell_type": "markdown",
   "metadata": {},
   "source": [
    "Normalization of input features"
   ]
  },
  {
   "cell_type": "code",
   "execution_count": 5,
   "metadata": {},
   "outputs": [
    {
     "name": "stdout",
     "output_type": "stream",
     "text": [
      "dist.shape (750000, 45)\n"
     ]
    }
   ],
   "source": [
    "dist_array = (dist_array_raw - np.mean(dist_array_raw,axis=0,keepdims=True))/( np.std(dist_array_raw,axis=0,keepdims=True) ) ## Batch Normalization\n",
    "\n",
    "print('dist.shape',dist_array.shape) ### size of the input feature\n",
    "dim_data, dim_var = dist_array.shape\n",
    "\n",
    "### Load FPS dataset:\n",
    "fps_id = np.loadtxt('./fps.txt').astype(np.int32)"
   ]
  },
  {
   "cell_type": "markdown",
   "metadata": {},
   "source": [
    "Build Computation Graph and Set hyper-parameters"
   ]
  },
  {
   "cell_type": "code",
   "execution_count": 6,
   "metadata": {},
   "outputs": [],
   "source": [
    "Kn = 16 ### Upper bound for cluster number\n",
    "KNN = 10 ### defines the size of the neighborhood, should be comparable to the relaxation timescale\n",
    "t_interval = 2  ### used to define resolution: tau := t_interval * KNN//2\n",
    "\n",
    "gamma = 1/0.05\n",
    "minibs = 500 ### size of the mini-batch\n",
    "\n",
    "num_stability = 1e-8\n",
    "\n",
    "tf.reset_default_graph()\n",
    "tf.set_random_seed(10086)"
   ]
  },
  {
   "cell_type": "code",
   "execution_count": 7,
   "metadata": {},
   "outputs": [],
   "source": [
    "X = tf.placeholder(shape=[None,dim_var], dtype=tf.float32,name='Xr') ## [minibs,dim_var]\n",
    "Y = tf.placeholder(shape=[None,KNN,dim_var], dtype=tf.float32,name='Yr') ## [minibs,KNN, dim_var]\n",
    "### Y is the temporal proximity of X\n",
    "control_beta = tf.placeholder(shape=[], dtype=tf.float32,name='beta') ### controlling beta"
   ]
  },
  {
   "cell_type": "markdown",
   "metadata": {},
   "source": [
    "Define the Mathcing Network, G and g"
   ]
  },
  {
   "cell_type": "code",
   "execution_count": 8,
   "metadata": {},
   "outputs": [],
   "source": [
    "############# Encoder ##########\n",
    "dim_encoder = 128\n",
    "dim_embed = 2 ### Embedding dimension; can be higher for sharper attention\n",
    "\n",
    "def MN_f(x_in):\n",
    "    output = LeakyReLULayer('encoder.f.1', Kn, dim_encoder, x_in)\n",
    "    output = LeakyReLULayer('encoder.f.2', dim_encoder, dim_encoder, output)\n",
    "    output = LeakyReLULayer('encoder.f.3', dim_encoder, dim_encoder, output)\n",
    "    output = LinearLayer('encoder.f.4', dim_encoder, dim_embed, output)\n",
    "    \n",
    "    return output\n",
    "\n",
    "def MN_g(x_in):\n",
    "    output = LeakyReLULayer('encoder.g.1', dim_var, dim_encoder, x_in)\n",
    "    output = LeakyReLULayer('encoder.g.2', dim_encoder, dim_encoder, output)\n",
    "    output = LeakyReLULayer('encoder.g.3', dim_encoder, dim_encoder, output)\n",
    "    output = LinearLayer('encoder.g.4', dim_encoder, dim_embed, output)\n",
    "    \n",
    "    return output"
   ]
  },
  {
   "cell_type": "markdown",
   "metadata": {},
   "source": [
    "Define Prototypes (cluster centroids)"
   ]
  },
  {
   "cell_type": "code",
   "execution_count": 9,
   "metadata": {},
   "outputs": [],
   "source": [
    "cond_tag = tf.one_hot(tf.constant(np.arange(Kn),dtype=tf.int32),depth=Kn, axis=1) ## [Kn,Kn]\n",
    "concept = cond_tag \n",
    "\n",
    "prototype_X = X\n",
    "prototype_Y = tf.reshape(Y, [-1,dim_var])"
   ]
  },
  {
   "cell_type": "markdown",
   "metadata": {},
   "source": [
    "Calculate Similarity with attention mechanism"
   ]
  },
  {
   "cell_type": "code",
   "execution_count": 10,
   "metadata": {},
   "outputs": [],
   "source": [
    "cv_concept = MN_f(concept) ### [Kn,embed_dim]\n",
    "cv_prototype_x = MN_g(prototype_X) ### [minibs,embed_dim]\n",
    "cv_prototype_y = MN_g(prototype_Y) ### [minibs*KNN,embed_dim]\n",
    "\n",
    "energies_x = tf.matmul(cv_prototype_x,cv_concept,transpose_b=True) / np.sqrt(dim_embed) ## [minibs,Kn]\n",
    "att_x = tf.nn.softmax( gamma * energies_x,axis=-1)  ## [minibs,Kn]\n",
    "\n",
    "energies_y = tf.matmul(cv_prototype_y,cv_concept,transpose_b=True) / np.sqrt(dim_embed) ## [minibs,Kn]\n",
    "att_y = tf.reduce_mean( tf.reshape( tf.nn.softmax( gamma * energies_y,axis=-1) , [-1,KNN,Kn] ) , axis=1 ) ## [minibs,Kn]\n",
    "\n",
    "#### for output:####\n",
    "cv_out = cv_prototype_x\n",
    "att_out = att_x "
   ]
  },
  {
   "cell_type": "markdown",
   "metadata": {},
   "source": [
    "Calculate the Mutual Information"
   ]
  },
  {
   "cell_type": "code",
   "execution_count": 11,
   "metadata": {},
   "outputs": [],
   "source": [
    "P_margin_x = tf.reduce_mean( att_x, axis=0 ) ### [Kn], average over minibatch of paired data\n",
    "P_margin_y = tf.reduce_mean( att_y, axis=0 ) ### [Kn], average over minibatch of paired data\n",
    "P_margin_mat = tf.expand_dims(P_margin_x,axis=1) * tf.expand_dims(P_margin_y,axis=0) + num_stability ### [Kn,Kn]\n",
    "\n",
    "P_joint_mat_raw = tf.matmul( tf.expand_dims(att_x,axis=-1), tf.expand_dims(att_y,axis=-1), transpose_b=True ) ### [minibs,Kn,Kn]\n",
    "P_joint_mat = tf.reduce_mean(P_joint_mat_raw,axis=0) + num_stability ### [Kn,Kn]\n",
    "\n",
    "#### Mutual information:::\n",
    "MI = tf.reduce_sum( P_joint_mat * tf.log( P_joint_mat / tf.pow(P_margin_mat , control_beta) ) ,axis=[0,1]) ## to be maximized"
   ]
  },
  {
   "cell_type": "markdown",
   "metadata": {},
   "source": [
    "Define the Loss functions"
   ]
  },
  {
   "cell_type": "code",
   "execution_count": 12,
   "metadata": {},
   "outputs": [],
   "source": [
    "loss_MI = -MI\n",
    "\n",
    "### Loss_H is used to perform adaptive gradient clipping\n",
    "loss_H =  tf.reduce_mean( tf.reduce_sum( - att_y * tf.log(tf.clip_by_value(att_y,num_stability,1.0)) , axis=-1) , axis=0) ### "
   ]
  },
  {
   "cell_type": "markdown",
   "metadata": {},
   "source": [
    "Regularization by reconstruction"
   ]
  },
  {
   "cell_type": "code",
   "execution_count": 13,
   "metadata": {},
   "outputs": [],
   "source": [
    "############## Decoder #############\n",
    "dim_decoder = 32\n",
    "def decoder_model(x_in):\n",
    "    output = LeakyReLULayer('decoder.1', dim_embed, dim_decoder, x_in)\n",
    "    output = LeakyReLULayer('decoder.2', dim_decoder, dim_decoder, output)\n",
    "    output = LinearLayer('decoder.3', dim_decoder, dim_var, output)\n",
    "    \n",
    "    return output\n",
    "\n",
    "x_recon = decoder_model(cv_prototype_x)\n",
    "\n",
    "loss_recon = tf.reduce_mean( tf.sqrt( tf.reduce_mean( (x_recon - X)**2 , axis=-1 ) ), axis=0 )\n",
    "\n",
    "##################################################\n",
    "\n",
    "reg1 = tf.placeholder(shape=[], dtype=tf.float32,name='reg1') ### for Adaptive Gradient Clipping\n",
    "reg2 = 0.5 ### for Reconstruction"
   ]
  },
  {
   "cell_type": "markdown",
   "metadata": {},
   "source": [
    "Define the optimizer and Adaptive Gradient Clipping"
   ]
  },
  {
   "cell_type": "code",
   "execution_count": 14,
   "metadata": {},
   "outputs": [],
   "source": [
    "optimizer = tf.train.AdamOptimizer(\n",
    "    learning_rate=2e-5, \n",
    "    name='opt',\n",
    ")\n",
    "###################################################\n",
    "\n",
    "gradient_MI, variables = zip(*optimizer.compute_gradients(loss_MI))\n",
    "gradient_H, __ = zip(*optimizer.compute_gradients( loss_H ))\n",
    "gradient_recon, ___ = zip(*optimizer.compute_gradients(loss_recon))\n",
    "\n",
    "grad_var = zip(gradient_MI,gradient_H,gradient_recon,variables)\n",
    "\n",
    "gradients_scaled = []\n",
    "for grad_MI,grad_H,grad_recon,var in grad_var:\n",
    "    grad_scaled = 0.0\n",
    "    if grad_MI is not None:\n",
    "        \n",
    "        if grad_H is not None:\n",
    "            grad_scaled += reg1 * grad_H + grad_MI / (tf.norm(grad_MI) + num_stability) * tf.reduce_min([tf.norm(grad_H),tf.norm(grad_MI)])\n",
    "        if grad_recon is not None:\n",
    "            grad_scaled += reg2 * grad_recon        \n",
    "    elif grad_recon is not None:\n",
    "            grad_scaled += reg2 * grad_recon\n",
    "    else:\n",
    "        print('something wrong.')\n",
    "        print(grad_MI,grad_H,grad_recon,var)\n",
    "        \n",
    "    gradients_scaled.append(grad_scaled)    \n"
   ]
  },
  {
   "cell_type": "markdown",
   "metadata": {},
   "source": [
    "Define Training operation and total cost"
   ]
  },
  {
   "cell_type": "code",
   "execution_count": 15,
   "metadata": {},
   "outputs": [],
   "source": [
    "train_op = optimizer.apply_gradients(zip(gradients_scaled, variables))\n",
    "\n",
    "total_cost = loss_MI + reg1*loss_H + reg2*loss_recon"
   ]
  },
  {
   "cell_type": "markdown",
   "metadata": {},
   "source": [
    "Save models"
   ]
  },
  {
   "cell_type": "code",
   "execution_count": 16,
   "metadata": {},
   "outputs": [],
   "source": [
    "# fpath='./'\n",
    "fpath = '/home/mi/justinchn/Dokumente/MVAE/github/demo'\n",
    "checkpoint_path = fpath+\"/my_network\"\n",
    "restore_checkpoint = True\n",
    "saver = tf.train.Saver()\n",
    "\n",
    "init = tf.global_variables_initializer()"
   ]
  },
  {
   "cell_type": "markdown",
   "metadata": {},
   "source": [
    "Training"
   ]
  },
  {
   "cell_type": "code",
   "execution_count": 17,
   "metadata": {
    "scrolled": true
   },
   "outputs": [
    {
     "name": "stdout",
     "output_type": "stream",
     "text": [
      "datasize: , torsion size:  749980 750000\n",
      "Step: 0, loss_MI: -1.908194, loss_H: 1.738023, loss_recon: 1.761523, beta: 1.500000\n",
      "Step: 50, loss_MI: -2.524361, loss_H: 2.299754, loss_recon: 1.521629, beta: 1.500000\n",
      "Step: 100, loss_MI: -2.652738, loss_H: 2.397718, loss_recon: 1.457332, beta: 1.500000\n",
      "Step: 150, loss_MI: -2.770709, loss_H: 2.393795, loss_recon: 1.455411, beta: 1.500000\n",
      "Step: 200, loss_MI: -2.925467, loss_H: 2.232697, loss_recon: 1.512089, beta: 1.500000\n",
      "Step: 250, loss_MI: -3.094183, loss_H: 2.143734, loss_recon: 1.566152, beta: 1.500000\n",
      "Step: 300, loss_MI: -3.162818, loss_H: 2.090607, loss_recon: 1.549836, beta: 1.500000\n",
      "Step: 350, loss_MI: -3.224307, loss_H: 2.028958, loss_recon: 1.509081, beta: 1.500000\n",
      "Step: 400, loss_MI: -3.260927, loss_H: 2.023213, loss_recon: 1.478878, beta: 1.500000\n",
      "Step: 450, loss_MI: -3.318479, loss_H: 1.957771, loss_recon: 1.479420, beta: 1.500000\n",
      "Step: 500, loss_MI: -1.688944, loss_H: 1.967414, loss_recon: 1.445013, beta: 1.200000\n",
      "Step: 550, loss_MI: -1.008793, loss_H: 0.258120, loss_recon: 1.486315, beta: 1.200000\n",
      "Step: 600, loss_MI: -1.044606, loss_H: 0.207997, loss_recon: 1.414750, beta: 1.200000\n",
      "Step: 650, loss_MI: -1.080009, loss_H: 0.194182, loss_recon: 1.379058, beta: 1.200000\n",
      "Step: 700, loss_MI: -1.056555, loss_H: 0.152542, loss_recon: 1.350857, beta: 1.200000\n",
      "Step: 750, loss_MI: -1.055340, loss_H: 0.145914, loss_recon: 1.328009, beta: 1.200000\n",
      "Step: 800, loss_MI: -1.056919, loss_H: 0.127057, loss_recon: 1.317772, beta: 1.200000\n",
      "Step: 850, loss_MI: -1.046658, loss_H: 0.118325, loss_recon: 1.308533, beta: 1.200000\n",
      "Step: 900, loss_MI: -1.040177, loss_H: 0.130307, loss_recon: 1.276454, beta: 1.200000\n",
      "Step: 950, loss_MI: -1.076700, loss_H: 0.125669, loss_recon: 1.260786, beta: 1.200000\n",
      "Step: 1000, loss_MI: -0.700239, loss_H: 0.118230, loss_recon: 1.254622, beta: 1.000000\n",
      "Step: 1050, loss_MI: -0.682135, loss_H: 0.106957, loss_recon: 1.251027, beta: 1.000000\n",
      "Step: 1100, loss_MI: -0.666871, loss_H: 0.098642, loss_recon: 1.226254, beta: 1.000000\n",
      "Step: 1150, loss_MI: -0.660686, loss_H: 0.093083, loss_recon: 1.208956, beta: 1.000000\n",
      "Step: 1200, loss_MI: -0.699797, loss_H: 0.080024, loss_recon: 1.205398, beta: 1.000000\n",
      "Step: 1250, loss_MI: -0.681111, loss_H: 0.097206, loss_recon: 1.202707, beta: 1.000000\n",
      "Step: 1300, loss_MI: -0.718339, loss_H: 0.082955, loss_recon: 1.187194, beta: 1.000000\n",
      "Step: 1350, loss_MI: -0.687849, loss_H: 0.086466, loss_recon: 1.184564, beta: 1.000000\n",
      "Step: 1400, loss_MI: -0.647092, loss_H: 0.091542, loss_recon: 1.175571, beta: 1.000000\n",
      "Step: 1450, loss_MI: -0.715108, loss_H: 0.084537, loss_recon: 1.172195, beta: 1.000000\n",
      "Step: 0, loss_MI: -0.674180, loss_H: 0.088378, loss_recon: 1.158481, beta: 1.000000\n",
      "Step: 50, loss_MI: -0.661540, loss_H: 0.094570, loss_recon: 1.159424, beta: 1.000000\n",
      "Step: 100, loss_MI: -0.716216, loss_H: 0.069256, loss_recon: 1.149744, beta: 1.000000\n",
      "Step: 150, loss_MI: -0.696485, loss_H: 0.089425, loss_recon: 1.150157, beta: 1.000000\n",
      "Step: 200, loss_MI: -0.738165, loss_H: 0.075007, loss_recon: 1.139828, beta: 1.000000\n",
      "Step: 250, loss_MI: -0.687453, loss_H: 0.087214, loss_recon: 1.140672, beta: 1.000000\n",
      "Step: 300, loss_MI: -0.670820, loss_H: 0.091709, loss_recon: 1.125568, beta: 1.000000\n",
      "Step: 350, loss_MI: -0.708620, loss_H: 0.068783, loss_recon: 1.123167, beta: 1.000000\n",
      "Step: 400, loss_MI: -0.713494, loss_H: 0.069264, loss_recon: 1.118144, beta: 1.000000\n",
      "Step: 450, loss_MI: -0.709372, loss_H: 0.083623, loss_recon: 1.115667, beta: 1.000000\n",
      "Step: 500, loss_MI: -0.679218, loss_H: 0.088958, loss_recon: 1.114764, beta: 1.000000\n",
      "Step: 550, loss_MI: -0.649664, loss_H: 0.086528, loss_recon: 1.100132, beta: 1.000000\n",
      "Step: 600, loss_MI: -0.681767, loss_H: 0.075265, loss_recon: 1.097017, beta: 1.000000\n",
      "Step: 650, loss_MI: -0.720022, loss_H: 0.084280, loss_recon: 1.105989, beta: 1.000000\n",
      "Step: 700, loss_MI: -0.704618, loss_H: 0.086115, loss_recon: 1.106660, beta: 1.000000\n",
      "Step: 750, loss_MI: -0.656915, loss_H: 0.085615, loss_recon: 1.096622, beta: 1.000000\n",
      "Step: 800, loss_MI: -0.684753, loss_H: 0.088588, loss_recon: 1.095729, beta: 1.000000\n",
      "Step: 850, loss_MI: -0.687873, loss_H: 0.084154, loss_recon: 1.094098, beta: 1.000000\n",
      "Step: 900, loss_MI: -0.683036, loss_H: 0.079515, loss_recon: 1.081786, beta: 1.000000\n",
      "Step: 950, loss_MI: -0.691830, loss_H: 0.074963, loss_recon: 1.086228, beta: 1.000000\n",
      "Step: 1000, loss_MI: -0.699022, loss_H: 0.075301, loss_recon: 1.077922, beta: 1.000000\n",
      "Step: 1050, loss_MI: -0.707994, loss_H: 0.073278, loss_recon: 1.074793, beta: 1.000000\n",
      "Step: 1100, loss_MI: -0.674581, loss_H: 0.082151, loss_recon: 1.077942, beta: 1.000000\n",
      "Step: 1150, loss_MI: -0.698982, loss_H: 0.086867, loss_recon: 1.077982, beta: 1.000000\n",
      "Step: 1200, loss_MI: -0.725073, loss_H: 0.076535, loss_recon: 1.072281, beta: 1.000000\n",
      "Step: 1250, loss_MI: -0.641422, loss_H: 0.088026, loss_recon: 1.059729, beta: 1.000000\n",
      "Step: 1300, loss_MI: -0.685664, loss_H: 0.081277, loss_recon: 1.056906, beta: 1.000000\n",
      "Step: 1350, loss_MI: -0.698832, loss_H: 0.080739, loss_recon: 1.068002, beta: 1.000000\n",
      "Step: 1400, loss_MI: -0.723980, loss_H: 0.072336, loss_recon: 1.068062, beta: 1.000000\n",
      "Step: 1450, loss_MI: -0.707561, loss_H: 0.066832, loss_recon: 1.053841, beta: 1.000000\n"
     ]
    }
   ],
   "source": [
    "n_epoch = 2 ### Training epochs\n",
    "\n",
    "with tf.Session() as sess:\n",
    "        \n",
    "    if restore_checkpoint and tf.train.checkpoint_exists(checkpoint_path):\n",
    "        saver.restore(sess, checkpoint_path)\n",
    "    else:\n",
    "        init.run() \n",
    "                \n",
    "    dataset_id = np.arange(KNN//2*t_interval,dim_data-KNN//2*t_interval).astype(np.int32)\n",
    "    filt = np.logical_and( fps_id>=np.amin(dataset_id).astype(np.int32), fps_id<=np.amax(dataset_id).astype(np.int32) )\n",
    "    fps_id = fps_id[filt]\n",
    "\n",
    "    dataset_size, = dataset_id.shape\n",
    "    torsion_size,__ = torsion.shape\n",
    "    print('datasize: , torsion size: ', dataset_size, torsion_size )\n",
    "\n",
    "    n_iteration = dataset_size // minibs\n",
    "    num_iter = 50    \n",
    "                \n",
    "    #### train:\n",
    "    for epoch in range(0,n_epoch):\n",
    "        np.random.shuffle(dataset_id)\n",
    "        \n",
    "        ################ Training ######################         \n",
    "        for i_iter in range(n_iteration):\n",
    "\n",
    "            seed_id = dataset_id[i_iter * minibs : (i_iter+1)*minibs ]\n",
    "            np.random.shuffle(fps_id)\n",
    "            fps_id_random = fps_id[:minibs]\n",
    "            win_id = np.concatenate( (seed_id, fps_id_random) )\n",
    "\n",
    "            ###########################\n",
    "          \n",
    "            x0 = dist_array[win_id] ##.reshape((-1,dim_var)) ### [minibs,dim_var]\n",
    "            torsion_in = torsion[win_id]\n",
    "            x_in = x0\n",
    " \n",
    "            y_in_list = []            \n",
    "            for idd in win_id:\n",
    "                id_step = idd + np.arange(-KNN//2,KNN//2).astype(np.int32) * t_interval                \n",
    "                y_in_list.append( np.expand_dims(dist_array[id_step],axis=0) )\n",
    "\n",
    "            y_neighbor = np.concatenate(y_in_list,axis=0) ### [minibs,KNN,dim_var]    \n",
    "            y_in = y_neighbor\n",
    "\n",
    "            ###########################\n",
    "\n",
    "            step_num = epoch*n_iteration+i_iter\n",
    "            warmup_steps = 500\n",
    "            \n",
    "            ### Warm up schedule for Adaptive Gradient Clipping:\n",
    "            reg1_in = 1.0 * (1-np.exp( - step_num / warmup_steps ))          \n",
    "\n",
    "            ### Decay schedule for beta:\n",
    "            if step_num < warmup_steps:\n",
    "                beta_in = 1.5\n",
    "            elif step_num < 2*warmup_steps:\n",
    "                beta_in = 1.2\n",
    "            else:\n",
    "                beta_in = 1.0\n",
    "\n",
    "            feed_dict={X:x_in, Y:y_in,\n",
    "                   control_beta: beta_in,\n",
    "                   reg1:reg1_in,\n",
    "                   }\n",
    "     \n",
    "            _,_loss_MI, _loss_H, _loss_recon, cv_, membership_ = sess.run( [train_op,loss_MI,loss_H,loss_recon,cv_prototype_x, att_out], feed_dict=feed_dict)  \n",
    "        \n",
    "            #######################################\n",
    "\n",
    "            if i_iter % num_iter == 0:\n",
    "                print('Step: %d, loss_MI: %f, loss_H: %f, loss_recon: %f, beta: %f' % (i_iter, _loss_MI, _loss_H, _loss_recon, beta_in ))                \n",
    "                save_path = saver.save(sess, checkpoint_path)\n",
    "                    "
   ]
  },
  {
   "cell_type": "markdown",
   "metadata": {},
   "source": [
    "Interpret Results"
   ]
  },
  {
   "cell_type": "code",
   "execution_count": 18,
   "metadata": {},
   "outputs": [
    {
     "name": "stdout",
     "output_type": "stream",
     "text": [
      "INFO:tensorflow:Restoring parameters from /home/mi/justinchn/Dokumente/MVAE/github/demo/my_network\n"
     ]
    },
    {
     "name": "stderr",
     "output_type": "stream",
     "text": [
      "INFO:tensorflow:Restoring parameters from /home/mi/justinchn/Dokumente/MVAE/github/demo/my_network\n"
     ]
    },
    {
     "name": "stdout",
     "output_type": "stream",
     "text": [
      "datasize: , torsion size:  75000 75000\n"
     ]
    }
   ],
   "source": [
    "with tf.Session() as sess:\n",
    "        \n",
    "    saver.restore(sess, checkpoint_path)\n",
    "    \n",
    "    dist_array = dist_array[::10] ### for test output\n",
    "    dim_data,_ = dist_array.shape\n",
    "    dataset_id = np.arange(dim_data).astype(np.int32)\n",
    "    torsion = torsion[::10]\n",
    "\n",
    "    dataset_size, = dataset_id.shape\n",
    "    torsion_size,__ = torsion.shape\n",
    "    print('datasize: , torsion size: ', dataset_size, torsion_size )\n",
    "\n",
    "    n_iteration = dataset_size // minibs + 1\n",
    "    assert dataset_size == torsion_size\n",
    "    num_iter = 1\n",
    "    \n",
    "    fname_list = ['./cv.membership.txt','./torsion.clustered.txt']\n",
    "    for fname in fname_list:\n",
    "        if os.path.isfile(fname):\n",
    "            os.remove(fname)\n",
    "\n",
    "    f1 = open('./cv.membership.txt','a')\n",
    "    f2 = open('./torsion.clustered.txt','a')   \n",
    "    ################ Training ###################### \n",
    "\n",
    "    for i_iter in range(n_iteration):\n",
    "        if i_iter < n_iteration-1:\n",
    "            win_id = dataset_id[i_iter * minibs : (i_iter+1)*minibs ]\n",
    "        else:\n",
    "            win_id = dataset_id[i_iter * minibs : ] \n",
    "        ###########################\n",
    "\n",
    "        x0 = dist_array[win_id] ##.reshape((-1,dim_var)) ### [minibs,dim_var]\n",
    "        torsion_in = torsion[win_id]\n",
    "        x_in = x0\n",
    "        y_in = np.tile(np.expand_dims(x_in,1),[1,KNN,1]) ### Dummy input\n",
    "\n",
    "        ###################################\n",
    "\n",
    "        reg1_in = 1.0\n",
    "        beta_in = 1.0\n",
    "\n",
    "        feed_dict={X:x_in, Y:y_in,\n",
    "               control_beta: beta_in,\n",
    "               reg1:reg1_in,\n",
    "               }\n",
    "\n",
    "        #### test::\n",
    "        cv_, membership_ = sess.run( [ cv_prototype_x, att_out], feed_dict=feed_dict)\n",
    "        #######################################\n",
    "\n",
    "        if i_iter % num_iter == 0:\n",
    "            np.savetxt(f1, np.column_stack((cv_, membership_))) \n",
    "            np.savetxt(f2, np.column_stack((torsion_in, np.argmax(membership_,axis=1) )))\n",
    "\n",
    "    f1.close()\n",
    "    f2.close()\n",
    "    "
   ]
  },
  {
   "cell_type": "markdown",
   "metadata": {},
   "source": [
    "Plotting"
   ]
  },
  {
   "cell_type": "code",
   "execution_count": 19,
   "metadata": {},
   "outputs": [
    {
     "name": "stdout",
     "output_type": "stream",
     "text": [
      "(75000, 3)\n"
     ]
    },
    {
     "data": {
      "text/plain": [
       "<matplotlib.collections.PathCollection at 0x7f749026bf60>"
      ]
     },
     "execution_count": 19,
     "metadata": {},
     "output_type": "execute_result"
    },
    {
     "data": {
      "image/png": "[encoded data removed]",
      "text/plain": [
       "<Figure size 432x288 with 1 Axes>"
      ]
     },
     "metadata": {
      "needs_background": "light"
     },
     "output_type": "display_data"
    }
   ],
   "source": [
    "### Clustering result:\n",
    "\n",
    "result = np.loadtxt('./torsion.clustered.txt')\n",
    "print(result.shape)\n",
    "\n",
    "plt.scatter(x=result[:,0], y=result[:,1], c=result[:,2], alpha=1.0, s=0.2)"
   ]
  },
  {
   "cell_type": "code",
   "execution_count": 20,
   "metadata": {},
   "outputs": [
    {
     "data": {
      "text/plain": [
       "<matplotlib.collections.PathCollection at 0x7f74681069e8>"
      ]
     },
     "execution_count": 20,
     "metadata": {},
     "output_type": "execute_result"
    },
    {
     "data": {
      "image/png": "[encoded data removed]",
      "text/plain": [
       "<Figure size 432x288 with 1 Axes>"
      ]
     },
     "metadata": {
      "needs_background": "light"
     },
     "output_type": "display_data"
    }
   ],
   "source": [
    "### Dimensionality reduction: IDioM Embedding\n",
    "\n",
    "idiom_embed = np.loadtxt('./cv.membership.txt')[:,:2]\n",
    "\n",
    "plt.scatter(x=idiom_embed[:,0], y=idiom_embed[:,1], c=result[:,2], alpha=1.0, s=0.2)"
   ]
  },
  {
   "cell_type": "code",
   "execution_count": null,
   "metadata": {},
   "outputs": [],
   "source": []
  }
 ],
 "metadata": {
  "kernelspec": {
   "display_name": "Python 3",
   "language": "python",
   "name": "python3"
  },
  "language_info": {
   "codemirror_mode": {
    "name": "ipython",
    "version": 3
   },
   "file_extension": ".py",
   "mimetype": "text/x-python",
   "name": "python",
   "nbconvert_exporter": "python",
   "pygments_lexer": "ipython3",
   "version": "3.6.6"
  }
 },
 "nbformat": 4,
 "nbformat_minor": 2
}
